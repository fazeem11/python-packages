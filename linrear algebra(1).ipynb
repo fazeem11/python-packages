{
 "cells": [
  {
   "cell_type": "code",
   "execution_count": 1,
   "id": "376ce14c-fa2a-412a-97d1-1cfcb264ea8f",
   "metadata": {},
   "outputs": [
    {
     "name": "stdout",
     "output_type": "stream",
     "text": [
      "44\n"
     ]
    }
   ],
   "source": [
    "# DOT() Function\n",
    "import numpy as np\n",
    "array1 =np.array([1,3,5])\n",
    "array2 =np.array([2,4,6])\n",
    "\n",
    "result = np.dot(array1,array2)\n",
    "print(result)"
   ]
  },
  {
   "cell_type": "code",
   "execution_count": 2,
   "id": "af6c0a2b-60fc-4693-96b8-73fb0ce0f624",
   "metadata": {},
   "outputs": [
    {
     "name": "stdout",
     "output_type": "stream",
     "text": [
      "[[14 30]\n",
      " [38 86]]\n"
     ]
    }
   ],
   "source": [
    "#Inner()\n",
    "import numpy as np\n",
    "array1 =np.array([[1,3],\n",
    "                  [5,7]])\n",
    "array2 =np.array([[2,4],\n",
    "                  [6,8]])\n",
    "result=np.inner(array1,array2)\n",
    "print (result)"
   ]
  },
  {
   "cell_type": "code",
   "execution_count": 3,
   "id": "e248f295-f02f-4d0b-b6ba-4056c862cea0",
   "metadata": {},
   "outputs": [
    {
     "name": "stdout",
     "output_type": "stream",
     "text": [
      "[[ 2  4  6]\n",
      " [ 6 12 18]\n",
      " [10 20 30]]\n"
     ]
    }
   ],
   "source": [
    "#outer()\n",
    "array1 =np.array([1,3,5])\n",
    "array2 =np.array([2,4,6]) \n",
    "result = np.outer(array1,array2)\n",
    "print(result)"
   ]
  },
  {
   "cell_type": "code",
   "execution_count": 4,
   "id": "6362aba3-26e7-4dc6-8f90-c0ee0ff6e577",
   "metadata": {},
   "outputs": [
    {
     "name": "stdout",
     "output_type": "stream",
     "text": [
      "-7.999999999999998\n"
     ]
    }
   ],
   "source": [
    "#det()\n",
    "array1 =np.array([[1,3],\n",
    "                  [5,7]])\n",
    "result= np.linalg.det(array1)\n",
    "print(result)"
   ]
  },
  {
   "cell_type": "code",
   "execution_count": 5,
   "id": "30c2c9b4-970d-45e5-bff5-18593a390a2b",
   "metadata": {},
   "outputs": [
    {
     "name": "stdout",
     "output_type": "stream",
     "text": [
      "[-2.    2.25]\n"
     ]
    }
   ],
   "source": [
    "#solve()\n",
    "A=np.array([[2,4],\n",
    "            [6,8]])\n",
    "B=np.array([5,6])\n",
    "x=np.linalg.solve(A,B)\n",
    "print(x)"
   ]
  },
  {
   "cell_type": "code",
   "execution_count": 6,
   "id": "dd68f15a-1f42-42a5-b22c-bee7fb7abc17",
   "metadata": {},
   "outputs": [
    {
     "name": "stdout",
     "output_type": "stream",
     "text": [
      "[[-1.    0.5 ]\n",
      " [ 0.75 -0.25]]\n"
     ]
    }
   ],
   "source": [
    "#inv function\n",
    "array1 =np.array([[2,4],\n",
    "                  [6,8]])\n",
    "result=np.linalg.inv(array1)\n",
    "print(result)"
   ]
  },
  {
   "cell_type": "code",
   "execution_count": 7,
   "id": "19d8ddcb-9088-4408-94ef-71005f75accc",
   "metadata": {},
   "outputs": [
    {
     "name": "stdout",
     "output_type": "stream",
     "text": [
      "12\n"
     ]
    }
   ],
   "source": [
    "#trace() function\n",
    "import numpy as np\n",
    "array1 =np.array([[6,3,5],\n",
    "                   [9,2,1],\n",
    "                   [7,8,4]])\n",
    "result =np.trace(array1)\n",
    "print(result)"
   ]
  },
  {
   "cell_type": "code",
   "execution_count": 8,
   "id": "a36a5d39-5767-4560-a975-5f07b74a9482",
   "metadata": {},
   "outputs": [
    {
     "name": "stdout",
     "output_type": "stream",
     "text": [
      "  message: Optimization terminated successfully.\n",
      "  success: True\n",
      "   status: 0\n",
      "      fun: 1.75\n",
      "        x: [-5.000e-01]\n",
      "      nit: 2\n",
      "      jac: [ 0.000e+00]\n",
      " hess_inv: [[ 5.000e-01]]\n",
      "     nfev: 8\n",
      "     njev: 4\n"
     ]
    }
   ],
   "source": [
    "#Minima\n",
    "from scipy.optimize import minimize\n",
    "\n",
    "def eqn(x):\n",
    "    return x**2+x+2\n",
    "mymin = minimize(eqn,0,method='BFGS')\n",
    "print(mymin)    \n"
   ]
  },
  {
   "cell_type": "code",
   "execution_count": null,
   "id": "9deb7f34-6349-47c6-b243-f546eb536a2e",
   "metadata": {},
   "outputs": [],
   "source": []
  },
  {
   "cell_type": "code",
   "execution_count": null,
   "id": "0816b3b6-86bc-465a-8108-8ae13f5d7c52",
   "metadata": {},
   "outputs": [],
   "source": []
  }
 ],
 "metadata": {
  "kernelspec": {
   "display_name": "Python 3 (ipykernel)",
   "language": "python",
   "name": "python3"
  },
  "language_info": {
   "codemirror_mode": {
    "name": "ipython",
    "version": 3
   },
   "file_extension": ".py",
   "mimetype": "text/x-python",
   "name": "python",
   "nbconvert_exporter": "python",
   "pygments_lexer": "ipython3",
   "version": "3.12.4"
  }
 },
 "nbformat": 4,
 "nbformat_minor": 5
}
