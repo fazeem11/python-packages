{
 "cells": [
  {
   "cell_type": "code",
   "execution_count": 3,
   "id": "73e794e9-9f57-465d-b8e7-a1e812885f2c",
   "metadata": {},
   "outputs": [
    {
     "name": "stdout",
     "output_type": "stream",
     "text": [
      "int32\n"
     ]
    }
   ],
   "source": [
    "import numpy as np\n",
    "arr = np.array([1,2,4,5])\n",
    "print(arr.dtype)\n"
   ]
  },
  {
   "cell_type": "code",
   "execution_count": 9,
   "id": "415e2f96-7d9c-4e1d-8d6f-30e4a7f56433",
   "metadata": {},
   "outputs": [
    {
     "name": "stdout",
     "output_type": "stream",
     "text": [
      "[b'1' b'2' b'3' b'4']\n",
      "|S1\n"
     ]
    }
   ],
   "source": [
    "arr=np.array([1,2,3,4],dtype='S')\n",
    "\n",
    "print(arr)\n",
    "print(arr.dtype)"
   ]
  },
  {
   "cell_type": "code",
   "execution_count": 10,
   "id": "c1b5ada7-93e0-4646-8772-276f5ecfe372",
   "metadata": {},
   "outputs": [
    {
     "name": "stdout",
     "output_type": "stream",
     "text": [
      "2nd element on 1st row:  2\n"
     ]
    }
   ],
   "source": [
    "arr = np.array([[1,2,3,4,5,],[6,7,8,9,10]])\n",
    "print('2nd element on 1st row: ',arr[0,1])"
   ]
  },
  {
   "cell_type": "code",
   "execution_count": 11,
   "id": "31beab03-4efe-4304-9a8e-fd93951ef65c",
   "metadata": {},
   "outputs": [
    {
     "name": "stdout",
     "output_type": "stream",
     "text": [
      "6\n"
     ]
    }
   ],
   "source": [
    "arr = np.array([[[1,2,3],[4,5,6]],[[7,8,9],[10,11,12]]])\n",
    "print(arr[0,1,2])"
   ]
  },
  {
   "cell_type": "code",
   "execution_count": 12,
   "id": "0f45b7f3-ecc5-4f88-b173-39e7dabd8642",
   "metadata": {},
   "outputs": [
    {
     "name": "stdout",
     "output_type": "stream",
     "text": [
      "[2 3 4 5]\n"
     ]
    }
   ],
   "source": [
    "import numpy as np\n",
    "arr=np.array([1,2,3,4,5,6,7])\n",
    "print(arr[1:5])"
   ]
  },
  {
   "cell_type": "code",
   "execution_count": null,
   "id": "d3c9b7f9-50b2-481e-bf29-ccc2b81e4182",
   "metadata": {},
   "outputs": [],
   "source": [
    "#1D\n",
    "import numpy as np\n",
    "\n",
    "arr = np.array([[[1, 2, 3], [4, 5, 6]], [[7, 8, 9], [10, 11, 12]]])\n",
    "\n",
    "for x in arr:\n",
    "  for y in x:\n",
    "    for z in y:\n",
    "print(z)\n"
   ]
  },
  {
   "cell_type": "code",
   "execution_count": 1,
   "id": "f370546b-2a2a-4709-9f83-4c70ae0f9ca7",
   "metadata": {},
   "outputs": [
    {
     "name": "stdout",
     "output_type": "stream",
     "text": [
      "x represents the 2-D array:\n",
      "[[1 2 3]\n",
      " [4 5 6]]\n",
      "x represents the 2-D array:\n",
      "[[ 7  8  9]\n",
      " [10 11 12]]\n"
     ]
    }
   ],
   "source": [
    "#2D\n",
    "import numpy as np\n",
    "\n",
    "arr = np.array([[[1, 2, 3], [4, 5, 6]], [[7, 8, 9], [10, 11, 12]]])\n",
    "\n",
    "for x in arr:\n",
    "  print(\"x represents the 2-D array:\")\n",
    "  print(x)\n"
   ]
  },
  {
   "cell_type": "code",
   "execution_count": 1,
   "id": "b8dae298-586a-4c94-81fc-38528a150459",
   "metadata": {},
   "outputs": [
    {
     "name": "stdout",
     "output_type": "stream",
     "text": [
      "1\n",
      "2\n",
      "3\n",
      "4\n",
      "5\n",
      "6\n"
     ]
    }
   ],
   "source": [
    "import numpy as np\n",
    "\n",
    "arr = np.array([[1, 2, 3], [4, 5, 6]])\n",
    "\n",
    "for x in arr:\n",
    "  for y in x:\n",
    "    print(y)\n",
    "      "
   ]
  },
  {
   "cell_type": "code",
   "execution_count": 3,
   "id": "a8bdd33a-9771-4f09-8dfd-b01764c76135",
   "metadata": {},
   "outputs": [
    {
     "name": "stdout",
     "output_type": "stream",
     "text": [
      "[1 2 3]\n",
      "[4 5 6]\n"
     ]
    }
   ],
   "source": [
    "import numpy as np\n",
    "\n",
    "arr = np.array([[1, 2, 3], [4, 5, 6]])\n",
    "\n",
    "for x in arr:\n",
    "  print(x)\n"
   ]
  },
  {
   "cell_type": "code",
   "execution_count": 6,
   "id": "a72acebc-0273-4c7a-813d-35a6269e015d",
   "metadata": {},
   "outputs": [
    {
     "name": "stdout",
     "output_type": "stream",
     "text": [
      "\n",
      " printing array a..\n",
      "[[ 1  2  3  4]\n",
      " [ 2  4  5  6]\n",
      " [10 20 39  3]]\n",
      "\n",
      " printing array b..\n",
      "[2 4 6 8]\n",
      "\n",
      " adding arrays a and b..\n",
      "[[ 3  6  9 12]\n",
      " [ 4  8 11 14]\n",
      " [12 24 45 11]]\n"
     ]
    }
   ],
   "source": [
    "import numpy as np\n",
    "a=np.array([[1,2,3,4],[2,4,5,6],[10,20,39,3]])\n",
    "\n",
    "b=np.array([2,4,6,8])\n",
    "print(\"\\n printing array a..\")\n",
    "print(a)\n",
    "print(\"\\n printing array b..\")\n",
    "print(b)\n",
    "print(\"\\n adding arrays a and b..\")\n",
    "c=a+b;\n",
    "print (c)"
   ]
  },
  {
   "cell_type": "code",
   "execution_count": null,
   "id": "3ad822e4-ca64-4b7f-9c88-88639ca84577",
   "metadata": {},
   "outputs": [],
   "source": [
    "#vstack\n"
   ]
  },
  {
   "cell_type": "code",
   "execution_count": null,
   "id": "702a5d87-d3f1-4040-92b8-481575c799ef",
   "metadata": {},
   "outputs": [],
   "source": []
  }
 ],
 "metadata": {
  "kernelspec": {
   "display_name": "Python 3 (ipykernel)",
   "language": "python",
   "name": "python3"
  },
  "language_info": {
   "codemirror_mode": {
    "name": "ipython",
    "version": 3
   },
   "file_extension": ".py",
   "mimetype": "text/x-python",
   "name": "python",
   "nbconvert_exporter": "python",
   "pygments_lexer": "ipython3",
   "version": "3.12.4"
  }
 },
 "nbformat": 4,
 "nbformat_minor": 5
}
