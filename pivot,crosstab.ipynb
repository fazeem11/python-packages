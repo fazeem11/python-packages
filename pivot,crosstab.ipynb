{
 "cells": [
  {
   "cell_type": "raw",
   "id": "351a30b9-ecb1-497a-9bd1-dd49b01cba98",
   "metadata": {},
   "source": [
    "import pandas\n",
    "import numpy\n",
    "\n",
    "array_1=numpy.array([\"cat\",\"cat\",\"cat\",\"rat\",\"rat\",\"cat\"]\n",
    "array_2=numpy.array([\"pin\",\"pin\",\"\"pin\",\"bat\",\"pin\",\"pin\"]\n",
    "array_3=numpy.array([\"book\",\"car\",\"car\"], dtype\n",
    "\n",
    "print(pandas.crosstab(array_1,[array_2,array3],rownames=['array_1'],\n",
    "colnames=['array_2','array_3']))"
   ]
  },
  {
   "cell_type": "code",
   "execution_count": null,
   "id": "6d5a2034-21e4-4064-93c0-caf556ce1fc9",
   "metadata": {},
   "outputs": [],
   "source": []
  },
  {
   "cell_type": "code",
   "execution_count": null,
   "id": "f7436f7d-0b66-4c91-82a8-9b13319945cd",
   "metadata": {},
   "outputs": [],
   "source": []
  }
 ],
 "metadata": {
  "kernelspec": {
   "display_name": "Python 3 (ipykernel)",
   "language": "python",
   "name": "python3"
  },
  "language_info": {
   "codemirror_mode": {
    "name": "ipython",
    "version": 3
   },
   "file_extension": ".py",
   "mimetype": "text/x-python",
   "name": "python",
   "nbconvert_exporter": "python",
   "pygments_lexer": "ipython3",
   "version": "3.12.4"
  }
 },
 "nbformat": 4,
 "nbformat_minor": 5
}
