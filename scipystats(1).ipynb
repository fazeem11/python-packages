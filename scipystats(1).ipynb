{
 "cells": [
  {
   "cell_type": "code",
   "execution_count": 1,
   "id": "322c657f-6c55-47c3-9a57-6dbecd298c1f",
   "metadata": {},
   "outputs": [
    {
     "name": "stdout",
     "output_type": "stream",
     "text": [
      "2.254068341376122\n"
     ]
    }
   ],
   "source": [
    "\n",
    "from scipy.stats import circmean\n",
    " \n",
    "\n",
    "print(circmean([0.4, 2.4, 3.6], high=4, low=2))"
   ]
  },
  {
   "cell_type": "code",
   "execution_count": 2,
   "id": "35c1d453-d735-4553-9408-ee085c240e4e",
   "metadata": {},
   "outputs": [
    {
     "name": "stdout",
     "output_type": "stream",
     "text": [
      "CrosstabResult(elements=(array(['A', 'B'], dtype='<U1'), array(['P', 'Q', 'R'], dtype='<U1')), count=array([[2, 3, 0],\n",
      "       [1, 0, 4]]))\n",
      "['A' 'B']\n",
      "['P' 'Q' 'R']\n",
      "[[2 3 0]\n",
      " [1 0 4]]\n"
     ]
    }
   ],
   "source": [
    "from scipy.stats.contingency import crosstab\n",
    " \n",
    "\n",
    "a = ['A', 'B', 'A', 'A', 'B', 'B', 'A', 'A', 'B', 'B']\n",
    " \n",
    "\n",
    "p = ['P', 'P', 'P', 'Q', 'R', 'R', 'Q', 'Q', 'R', 'R']\n",
    " \n",
    "\n",
    "print(crosstab(a, p))\n",
    " \n",
    "\n",
    "(auv, puv), cnt = crosstab(a,  p)\n",
    "\n",
    "print(auv)\n",
    "\n",
    "print(puv)\n",
    " \n",
    "print(cnt)"
   ]
  },
  {
   "cell_type": "code",
   "execution_count": 3,
   "id": "a32fbb1f-7468-455f-b369-dc40eb6d95f6",
   "metadata": {},
   "outputs": [
    {
     "name": "stdout",
     "output_type": "stream",
     "text": [
      "DescribeResult(nobs=8, minmax=(10, 80), mean=45.0, variance=600.0, skewness=0.0, kurtosis=-1.2380952380952381)\n"
     ]
    }
   ],
   "source": [
    "from scipy import stats as st\n",
    "import numpy as npy\n",
    "array = npy.array([10, 20, 30, 40, 50, 60, 70, 80])\n",
    "print(st.describe(array))"
   ]
  },
  {
   "cell_type": "code",
   "execution_count": 4,
   "id": "6684a08f-dcac-4e49-bddf-037a34e1648e",
   "metadata": {},
   "outputs": [
    {
     "name": "stdout",
     "output_type": "stream",
     "text": [
      "ModeResult(mode=array([1, 3], dtype=int64), count=array([2, 3], dtype=int64))\n"
     ]
    }
   ],
   "source": [
    "from scipy import stats as st\n",
    "array = [[2, 3], [3, 1], [1, 3],\\\n",
    "         [3, 3], [4, 2], [4, 4],\\\n",
    "         [1, 2], [5, 6]]\n",
    "print(st.mode(array))"
   ]
  },
  {
   "cell_type": "code",
   "execution_count": 5,
   "id": "0d51448b-8328-4c2b-9a7c-3ed7e5411aac",
   "metadata": {},
   "outputs": [
    {
     "name": "stdout",
     "output_type": "stream",
     "text": [
      "DescribeResult(nobs=8, minmax=(10, 80), mean=45.0, variance=600.0, skewness=0.0, kurtosis=-1.2380952380952381)\n"
     ]
    }
   ],
   "source": [
    "from scipy import stats as st\n",
    "import numpy as npy\n",
    "array = npy.array([10, 20, 30, 40, 50, 60, 70, 80])\n",
    "print(st.describe(array))"
   ]
  },
  {
   "cell_type": "code",
   "execution_count": 6,
   "id": "4171f9ff-2434-4d92-80c2-60cbd7d5b6c0",
   "metadata": {},
   "outputs": [
    {
     "name": "stdout",
     "output_type": "stream",
     "text": [
      "[0.02275013 0.5        0.97724987]\n"
     ]
    }
   ],
   "source": [
    "import numpy as np\n",
    "from scipy.stats import norm\n",
    "print(norm.cdf(npy.array([-2, 0, 2])))"
   ]
  },
  {
   "cell_type": "code",
   "execution_count": 7,
   "id": "c672dbb4-810f-4449-bd8c-1e557d949e18",
   "metadata": {},
   "outputs": [
    {
     "name": "stdout",
     "output_type": "stream",
     "text": [
      "[ 2.  3. 10.  1.  6.  8.  7.  4.  5.  9.]\n"
     ]
    }
   ],
   "source": [
    "from scipy import stats as st\n",
    "array = [2, 3, 15, 1, 6, 9, 8, 4, 5, 10]\n",
    "print(st.rankdata(array))"
   ]
  },
  {
   "cell_type": "code",
   "execution_count": null,
   "id": "cc590322-f032-4651-b9d3-17c6299c569a",
   "metadata": {},
   "outputs": [],
   "source": []
  },
  {
   "cell_type": "code",
   "execution_count": null,
   "id": "188c2a9d-62c3-4853-973c-6ab1782c2aed",
   "metadata": {},
   "outputs": [],
   "source": []
  }
 ],
 "metadata": {
  "kernelspec": {
   "display_name": "Python 3 (ipykernel)",
   "language": "python",
   "name": "python3"
  },
  "language_info": {
   "codemirror_mode": {
    "name": "ipython",
    "version": 3
   },
   "file_extension": ".py",
   "mimetype": "text/x-python",
   "name": "python",
   "nbconvert_exporter": "python",
   "pygments_lexer": "ipython3",
   "version": "3.12.4"
  }
 },
 "nbformat": 4,
 "nbformat_minor": 5
}
